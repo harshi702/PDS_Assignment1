{
  "nbformat": 4,
  "nbformat_minor": 0,
  "metadata": {
    "colab": {
      "provenance": []
    },
    "kernelspec": {
      "name": "python3",
      "display_name": "Python 3"
    },
    "language_info": {
      "name": "python"
    }
  },
  "cells": [
    {
      "cell_type": "code",
      "execution_count": 49,
      "metadata": {
        "id": "6F_J2ZzGZ-iJ"
      },
      "outputs": [],
      "source": [
        "import pandas as pd\n",
        "import seaborn as sns\n",
        "import numpy as np\n",
        "from scipy import stats\n",
        "import matplotlib.pyplot as plt"
      ]
    },
    {
      "cell_type": "code",
      "source": [
        "from google.colab import drive\n",
        "drive.mount('/content/drive')"
      ],
      "metadata": {
        "colab": {
          "base_uri": "https://localhost:8080/"
        },
        "id": "pIuT1sWwa3ER",
        "outputId": "667d0ce3-52c8-40e4-e330-1ef012f4c882"
      },
      "execution_count": 3,
      "outputs": [
        {
          "output_type": "stream",
          "name": "stdout",
          "text": [
            "Mounted at /content/drive\n"
          ]
        }
      ]
    },
    {
      "cell_type": "code",
      "source": [
        "data_path = '/content/drive/MyDrive/PDS_Assignment1/Q1/data_raw/rawdata.csv'\n",
        "df = pd.read_csv(data_path)\n",
        "df.info()"
      ],
      "metadata": {
        "colab": {
          "base_uri": "https://localhost:8080/"
        },
        "id": "zJR6JJoyaook",
        "outputId": "7c9678f6-8161-4af9-ea64-d6ef2d9e43e3"
      },
      "execution_count": 40,
      "outputs": [
        {
          "output_type": "stream",
          "name": "stdout",
          "text": [
            "<class 'pandas.core.frame.DataFrame'>\n",
            "RangeIndex: 10 entries, 0 to 9\n",
            "Data columns (total 5 columns):\n",
            " #   Column          Non-Null Count  Dtype \n",
            "---  ------          --------------  ----- \n",
            " 0   Height          10 non-null     object\n",
            " 1   Weight          10 non-null     object\n",
            " 2   Age             10 non-null     object\n",
            " 3   Grip strength   10 non-null     object\n",
            " 4   Frailty         10 non-null     object\n",
            "dtypes: object(5)\n",
            "memory usage: 528.0+ bytes\n"
          ]
        }
      ]
    },
    {
      "cell_type": "code",
      "source": [
        "df.rename(columns={\n",
        "    'Height ': 'height',\n",
        "    'Weight ': 'weight',\n",
        "    }, inplace= True)\n",
        "\n",
        "df.columns\n",
        "\n"
      ],
      "metadata": {
        "colab": {
          "base_uri": "https://localhost:8080/"
        },
        "id": "jY8BrnmYcaFg",
        "outputId": "67e7bb9e-4d91-4472-a4e3-294cbcfe4fee"
      },
      "execution_count": 45,
      "outputs": [
        {
          "output_type": "execute_result",
          "data": {
            "text/plain": [
              "Index(['height', 'weight', 'Age ', 'Grip strength ', 'Frailty '], dtype='object')"
            ]
          },
          "metadata": {},
          "execution_count": 45
        }
      ]
    },
    {
      "cell_type": "code",
      "source": [
        "for i in df.columns[:3]:\n",
        "  df[i]=df[i].astype('float')\n",
        "df.info()"
      ],
      "metadata": {
        "colab": {
          "base_uri": "https://localhost:8080/"
        },
        "id": "x6_gtJrGm4BV",
        "outputId": "a0d7c786-cad7-4584-dae1-ff06183a08bc"
      },
      "execution_count": 46,
      "outputs": [
        {
          "output_type": "stream",
          "name": "stdout",
          "text": [
            "<class 'pandas.core.frame.DataFrame'>\n",
            "RangeIndex: 10 entries, 0 to 9\n",
            "Data columns (total 5 columns):\n",
            " #   Column          Non-Null Count  Dtype  \n",
            "---  ------          --------------  -----  \n",
            " 0   height          10 non-null     float64\n",
            " 1   weight          10 non-null     float64\n",
            " 2   Age             10 non-null     float64\n",
            " 3   Grip strength   10 non-null     object \n",
            " 4   Frailty         10 non-null     object \n",
            "dtypes: float64(3), object(2)\n",
            "memory usage: 528.0+ bytes\n"
          ]
        }
      ]
    },
    {
      "cell_type": "code",
      "source": [
        "df.to_csv('/content/drive/MyDrive/PDS_Assignment1/Q1/data_clean/cleaneddata.csv')"
      ],
      "metadata": {
        "id": "IA9HVLACcj89"
      },
      "execution_count": 47,
      "outputs": []
    }
  ]
}