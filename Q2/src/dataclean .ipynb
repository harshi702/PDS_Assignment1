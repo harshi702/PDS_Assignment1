{
  "nbformat": 4,
  "nbformat_minor": 0,
  "metadata": {
    "colab": {
      "provenance": []
    },
    "kernelspec": {
      "name": "python3",
      "display_name": "Python 3"
    },
    "language_info": {
      "name": "python"
    }
  },
  "cells": [
    {
      "cell_type": "code",
      "source": [
        "from google.colab import drive\n",
        "drive.mount('/content/drive')"
      ],
      "metadata": {
        "colab": {
          "base_uri": "https://localhost:8080/"
        },
        "id": "XXY_O9sNbFqY",
        "outputId": "c230d3c3-f143-45cd-ed22-b8d735e0d60d"
      },
      "execution_count": 37,
      "outputs": [
        {
          "output_type": "stream",
          "name": "stdout",
          "text": [
            "Drive already mounted at /content/drive; to attempt to forcibly remount, call drive.mount(\"/content/drive\", force_remount=True).\n"
          ]
        }
      ]
    },
    {
      "cell_type": "code",
      "source": [
        "data_path = '/content/drive/MyDrive/PDS_Assignment1/Q2/data_raw/StudentsPerformance.csv'\n",
        "df = pd.read_csv(data_path)\n",
        "\n",
        "\n"
      ],
      "metadata": {
        "id": "9-fHzpPyELIk"
      },
      "execution_count": 32,
      "outputs": []
    },
    {
      "cell_type": "code",
      "source": [
        "for i in df.columns[:5]:\n",
        "  df[i]=df[i].astype('category')\n",
        "df.info()"
      ],
      "metadata": {
        "colab": {
          "base_uri": "https://localhost:8080/"
        },
        "id": "KtuLsqH5R3NN",
        "outputId": "5f3487ef-10fb-4334-d962-663619b2fe4d"
      },
      "execution_count": 35,
      "outputs": [
        {
          "output_type": "stream",
          "name": "stdout",
          "text": [
            "<class 'pandas.core.frame.DataFrame'>\n",
            "RangeIndex: 1000 entries, 0 to 999\n",
            "Data columns (total 8 columns):\n",
            " #   Column                       Non-Null Count  Dtype   \n",
            "---  ------                       --------------  -----   \n",
            " 0   gender                       1000 non-null   category\n",
            " 1   race/ethnicity               1000 non-null   category\n",
            " 2   parental level of education  1000 non-null   category\n",
            " 3   lunch                        1000 non-null   category\n",
            " 4   test preparation course      1000 non-null   category\n",
            " 5   math score                   1000 non-null   int64   \n",
            " 6   reading score                1000 non-null   int64   \n",
            " 7   writing score                1000 non-null   int64   \n",
            "dtypes: category(5), int64(3)\n",
            "memory usage: 29.2 KB\n"
          ]
        }
      ]
    },
    {
      "cell_type": "code",
      "source": [
        "df.to_csv('/content/drive/MyDrive/PDS_Assignment1/Q2/data_clean/StudentsPerformance.csv')"
      ],
      "metadata": {
        "id": "4wKVI4Q9TS5P"
      },
      "execution_count": 36,
      "outputs": []
    }
  ]
}